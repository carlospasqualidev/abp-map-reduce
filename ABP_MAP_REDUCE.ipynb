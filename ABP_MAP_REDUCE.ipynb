{
  "nbformat": 4,
  "nbformat_minor": 0,
  "metadata": {
    "colab": {
      "provenance": [],
      "collapsed_sections": [
        "ohyfw4T2U5Gb",
        "MOpqQeqVUOrx",
        "Tu17fn_70k7v",
        "yik0r2O_HOet"
      ]
    },
    "kernelspec": {
      "name": "python3",
      "display_name": "Python 3"
    },
    "language_info": {
      "name": "python"
    }
  },
  "cells": [
    {
      "cell_type": "markdown",
      "source": [
        "#IMPORTS\n"
      ],
      "metadata": {
        "id": "iTMoyPnyeQIo"
      }
    },
    {
      "cell_type": "code",
      "source": [
        "import pandas as pd\n",
        "import matplotlib.pyplot as plt\n",
        "import statsmodels.api as sm \n",
        "from statsmodels.tsa.seasonal import seasonal_decompose\n",
        "from scipy import stats \n",
        "from scipy.special import inv_boxcox"
      ],
      "metadata": {
        "id": "BM9opxRCKtyQ"
      },
      "execution_count": 236,
      "outputs": []
    },
    {
      "cell_type": "markdown",
      "source": [
        "#CSV TREATMENTS"
      ],
      "metadata": {
        "id": "4w-gN0gMLHWF"
      }
    },
    {
      "cell_type": "code",
      "source": [
        "dataFrame = pd.read_csv('musicdata.csv', index_col=0) # carrega o CSV\n",
        "\n",
        "dataFrame = dataFrame[dataFrame['value_actual'].notna()] # remove os valores negativos\n",
        "\n",
        "dataFrame = dataFrame.query(\"format=='CD' and metric=='Value'\") #filtra o dataset por CD\n",
        "\n",
        "dataFrame = dataFrame.set_index(\"year\") # define a coluna year como index\n",
        "\n",
        "dataFrame = dataFrame.drop(['metric','number_of_records'],axis=1) # remove as colunas \"metric, number_of_records\"\n",
        "\n",
        "dataFrame = dataFrame.sort_values(by=['year']) # ordena o dataFrame do menor ano para o maior\n"
      ],
      "metadata": {
        "id": "reY5yOCmLUmU"
      },
      "execution_count": 237,
      "outputs": []
    },
    {
      "cell_type": "markdown",
      "source": [
        "#VISUAL CHART"
      ],
      "metadata": {
        "id": "oFyTp8OiT1gH"
      }
    },
    {
      "cell_type": "code",
      "source": [
        "dataFrame.plot(figsize=(12,6))\n",
        "plt.show()"
      ],
      "metadata": {
        "id": "AzOvqxD2T8_e",
        "colab": {
          "base_uri": "https://localhost:8080/",
          "height": 388
        },
        "outputId": "2366a8c7-5361-42bd-9ca1-a29b4a5db20e"
      },
      "execution_count": 238,
      "outputs": [
        {
          "output_type": "display_data",
          "data": {
            "text/plain": [
              "<Figure size 864x432 with 1 Axes>"
            ],
            "image/png": "[encoded data removed]"
          },
          "metadata": {
            "needs_background": "light"
          }
        }
      ]
    },
    {
      "cell_type": "markdown",
      "source": [
        "#DESCRIPTION\n"
      ],
      "metadata": {
        "id": "IIoFSOwzTORo"
      }
    },
    {
      "cell_type": "code",
      "source": [
        "dataFrame.describe()"
      ],
      "metadata": {
        "id": "aIG09aUBTSBc",
        "colab": {
          "base_uri": "https://localhost:8080/",
          "height": 300
        },
        "outputId": "db4cd397-63d6-4142-f071-1b97cc8c8487"
      },
      "execution_count": 239,
      "outputs": [
        {
          "output_type": "execute_result",
          "data": {
            "text/plain": [
              "       value_actual\n",
              "count     37.000000\n",
              "mean    5542.809705\n",
              "std     4463.158244\n",
              "min       17.200000\n",
              "25%     1593.600000\n",
              "50%     4318.800000\n",
              "75%     9915.100000\n",
              "max    13214.500000"
            ],
            "text/html": [
              "\n",
              "  <div id=\"df-adaa9dd5-e036-441f-880b-ef8ed075d56e\">\n",
              "    <div class=\"colab-df-container\">\n",
              "      <div>\n",
              "<style scoped>\n",
              "    .dataframe tbody tr th:only-of-type {\n",
              "        vertical-align: middle;\n",
              "    }\n",
              "\n",
              "    .dataframe tbody tr th {\n",
              "        vertical-align: top;\n",
              "    }\n",
              "\n",
              "    .dataframe thead th {\n",
              "        text-align: right;\n",
              "    }\n",
              "</style>\n",
              "<table border=\"1\" class=\"dataframe\">\n",
              "  <thead>\n",
              "    <tr style=\"text-align: right;\">\n",
              "      <th></th>\n",
              "      <th>value_actual</th>\n",
              "    </tr>\n",
              "  </thead>\n",
              "  <tbody>\n",
              "    <tr>\n",
              "      <th>count</th>\n",
              "      <td>37.000000</td>\n",
              "    </tr>\n",
              "    <tr>\n",
              "      <th>mean</th>\n",
              "      <td>5542.809705</td>\n",
              "    </tr>\n",
              "    <tr>\n",
              "      <th>std</th>\n",
              "      <td>4463.158244</td>\n",
              "    </tr>\n",
              "    <tr>\n",
              "      <th>min</th>\n",
              "      <td>17.200000</td>\n",
              "    </tr>\n",
              "    <tr>\n",
              "      <th>25%</th>\n",
              "      <td>1593.600000</td>\n",
              "    </tr>\n",
              "    <tr>\n",
              "      <th>50%</th>\n",
              "      <td>4318.800000</td>\n",
              "    </tr>\n",
              "    <tr>\n",
              "      <th>75%</th>\n",
              "      <td>9915.100000</td>\n",
              "    </tr>\n",
              "    <tr>\n",
              "      <th>max</th>\n",
              "      <td>13214.500000</td>\n",
              "    </tr>\n",
              "  </tbody>\n",
              "</table>\n",
              "</div>\n",
              "      <button class=\"colab-df-convert\" onclick=\"convertToInteractive('df-adaa9dd5-e036-441f-880b-ef8ed075d56e')\"\n",
              "              title=\"Convert this dataframe to an interactive table.\"\n",
              "              style=\"display:none;\">\n",
              "        \n",
              "  <svg xmlns=\"http://www.w3.org/2000/svg\" height=\"24px\"viewBox=\"0 0 24 24\"\n",
              "       width=\"24px\">\n",
              "    <path d=\"M0 0h24v24H0V0z\" fill=\"none\"/>\n",
              "    <path d=\"M18.56 5.44l.94 2.06.94-2.06 2.06-.94-2.06-.94-.94-2.06-.94 2.06-2.06.94zm-11 1L8.5 8.5l.94-2.06 2.06-.94-2.06-.94L8.5 2.5l-.94 2.06-2.06.94zm10 10l.94 2.06.94-2.06 2.06-.94-2.06-.94-.94-2.06-.94 2.06-2.06.94z\"/><path d=\"M17.41 7.96l-1.37-1.37c-.4-.4-.92-.59-1.43-.59-.52 0-1.04.2-1.43.59L10.3 9.45l-7.72 7.72c-.78.78-.78 2.05 0 2.83L4 21.41c.39.39.9.59 1.41.59.51 0 1.02-.2 1.41-.59l7.78-7.78 2.81-2.81c.8-.78.8-2.07 0-2.86zM5.41 20L4 18.59l7.72-7.72 1.47 1.35L5.41 20z\"/>\n",
              "  </svg>\n",
              "      </button>\n",
              "      \n",
              "  <style>\n",
              "    .colab-df-container {\n",
              "      display:flex;\n",
              "      flex-wrap:wrap;\n",
              "      gap: 12px;\n",
              "    }\n",
              "\n",
              "    .colab-df-convert {\n",
              "      background-color: #E8F0FE;\n",
              "      border: none;\n",
              "      border-radius: 50%;\n",
              "      cursor: pointer;\n",
              "      display: none;\n",
              "      fill: #1967D2;\n",
              "      height: 32px;\n",
              "      padding: 0 0 0 0;\n",
              "      width: 32px;\n",
              "    }\n",
              "\n",
              "    .colab-df-convert:hover {\n",
              "      background-color: #E2EBFA;\n",
              "      box-shadow: 0px 1px 2px rgba(60, 64, 67, 0.3), 0px 1px 3px 1px rgba(60, 64, 67, 0.15);\n",
              "      fill: #174EA6;\n",
              "    }\n",
              "\n",
              "    [theme=dark] .colab-df-convert {\n",
              "      background-color: #3B4455;\n",
              "      fill: #D2E3FC;\n",
              "    }\n",
              "\n",
              "    [theme=dark] .colab-df-convert:hover {\n",
              "      background-color: #434B5C;\n",
              "      box-shadow: 0px 1px 3px 1px rgba(0, 0, 0, 0.15);\n",
              "      filter: drop-shadow(0px 1px 2px rgba(0, 0, 0, 0.3));\n",
              "      fill: #FFFFFF;\n",
              "    }\n",
              "  </style>\n",
              "\n",
              "      <script>\n",
              "        const buttonEl =\n",
              "          document.querySelector('#df-adaa9dd5-e036-441f-880b-ef8ed075d56e button.colab-df-convert');\n",
              "        buttonEl.style.display =\n",
              "          google.colab.kernel.accessAllowed ? 'block' : 'none';\n",
              "\n",
              "        async function convertToInteractive(key) {\n",
              "          const element = document.querySelector('#df-adaa9dd5-e036-441f-880b-ef8ed075d56e');\n",
              "          const dataTable =\n",
              "            await google.colab.kernel.invokeFunction('convertToInteractive',\n",
              "                                                     [key], {});\n",
              "          if (!dataTable) return;\n",
              "\n",
              "          const docLinkHtml = 'Like what you see? Visit the ' +\n",
              "            '<a target=\"_blank\" href=https://colab.research.google.com/notebooks/data_table.ipynb>data table notebook</a>'\n",
              "            + ' to learn more about interactive tables.';\n",
              "          element.innerHTML = '';\n",
              "          dataTable['output_type'] = 'display_data';\n",
              "          await google.colab.output.renderOutput(dataTable, element);\n",
              "          const docLink = document.createElement('div');\n",
              "          docLink.innerHTML = docLinkHtml;\n",
              "          element.appendChild(docLink);\n",
              "        }\n",
              "      </script>\n",
              "    </div>\n",
              "  </div>\n",
              "  "
            ]
          },
          "metadata": {},
          "execution_count": 239
        }
      ]
    },
    {
      "cell_type": "markdown",
      "source": [
        "#NORMALITY TEST KSTEST\n"
      ],
      "metadata": {
        "id": "ohyfw4T2U5Gb"
      }
    },
    {
      "cell_type": "code",
      "source": [
        "stats.kstest(dataFrame['value_actual'],'norm')"
      ],
      "metadata": {
        "colab": {
          "base_uri": "https://localhost:8080/"
        },
        "id": "_zcsmLrJU8sy",
        "outputId": "eab6609e-0c27-4e53-e12d-bfd6cdbdfef4"
      },
      "execution_count": 240,
      "outputs": [
        {
          "output_type": "execute_result",
          "data": {
            "text/plain": [
              "KstestResult(statistic=1.0, pvalue=0.0)"
            ]
          },
          "metadata": {},
          "execution_count": 240
        }
      ]
    },
    {
      "cell_type": "code",
      "source": [
        "statistic, pvalue = stats.kstest(dataFrame['value_actual'],'norm')\n",
        "\n",
        "if pvalue > 0.29407:\n",
        "  print('Não é uma distribuição normal')\n",
        "else: \n",
        "  print('É uma distribuição normal')\n"
      ],
      "metadata": {
        "colab": {
          "base_uri": "https://localhost:8080/"
        },
        "id": "U1AvMYCiVUEM",
        "outputId": "1a772fa9-bf2e-40aa-8006-a683c4ca81df"
      },
      "execution_count": 241,
      "outputs": [
        {
          "output_type": "stream",
          "name": "stdout",
          "text": [
            "É uma distribuição normal\n"
          ]
        }
      ]
    },
    {
      "cell_type": "markdown",
      "source": [
        "#NORMALITY TEST SHAPIRO - SW\n"
      ],
      "metadata": {
        "id": "z11GFokjXIKc"
      }
    },
    {
      "cell_type": "code",
      "source": [
        "print(stats.shapiro(dataFrame['value_actual'])) # verificando a variancia sem a aplicação do boxcox\n",
        "if stats.shapiro(dataFrame['value_actual'])[1]> 0.05:\n",
        "    print('Distribuição Normal')\n",
        "else:\n",
        "    print('Não é uma Distribuição Normal')"
      ],
      "metadata": {
        "colab": {
          "base_uri": "https://localhost:8080/"
        },
        "id": "zF3yypVGXMbt",
        "outputId": "c339af30-bf62-4403-c330-c82063e3f684"
      },
      "execution_count": 243,
      "outputs": [
        {
          "output_type": "stream",
          "name": "stdout",
          "text": [
            "ShapiroResult(statistic=0.887243926525116, pvalue=0.0013277996331453323)\n",
            "Não é uma Distribuição Normal\n"
          ]
        }
      ]
    },
    {
      "cell_type": "markdown",
      "source": [
        "#BOX COX"
      ],
      "metadata": {
        "id": "GoBdPRgubihj"
      }
    },
    {
      "cell_type": "code",
      "source": [
        "newValue, lambda_boxcox = stats.boxcox(dataFrame['value_actual']) # reduzindo a variancia para conseguir uma curva mais normal\n",
        "newValue"
      ],
      "metadata": {
        "colab": {
          "base_uri": "https://localhost:8080/"
        },
        "id": "re792Ch4bkrZ",
        "outputId": "35bc91c5-e861-4b2c-e1b5-a142e2afc71a"
      },
      "execution_count": 244,
      "outputs": [
        {
          "output_type": "execute_result",
          "data": {
            "text/plain": [
              "array([  5.38585142,  13.86616626,  25.63761698,  37.65898639,\n",
              "        47.54921018,  53.4177652 ,  58.5238699 ,  66.15505302,\n",
              "        72.88209832,  79.48842557,  86.51049579,  96.59551802,\n",
              "       100.83658637, 103.30665858, 103.22119596, 109.49814411,\n",
              "       114.92814006, 116.40760498, 115.27644702, 111.9797643 ,\n",
              "       108.75959973, 109.62048626, 105.81507994, 100.81494017,\n",
              "        91.56397848,  80.39305079,  72.74756068,  65.64624873,\n",
              "        63.20932335,  57.52749624,  53.97206129,  49.82006165,\n",
              "        45.58534055,  40.99800196,  39.81997736,  33.22047454,\n",
              "        31.4004719 ])"
            ]
          },
          "metadata": {},
          "execution_count": 244
        }
      ]
    },
    {
      "cell_type": "code",
      "source": [
        "print(stats.shapiro(newValue)) # executa o shapiro com os valores retornados pelo boxcox"
      ],
      "metadata": {
        "colab": {
          "base_uri": "https://localhost:8080/"
        },
        "id": "0wNQAXKwbwGr",
        "outputId": "504a106e-9b49-478f-ce82-3891228762b3"
      },
      "execution_count": 245,
      "outputs": [
        {
          "output_type": "stream",
          "name": "stdout",
          "text": [
            "ShapiroResult(statistic=0.9418991208076477, pvalue=0.053019385784864426)\n"
          ]
        }
      ]
    },
    {
      "cell_type": "code",
      "source": [
        "#verifica se apos o boxcox a distribuição ficou normal\n",
        "print(stats.shapiro(newValue))\n",
        "if stats.shapiro(newValue)[1]> 0.05:\n",
        "    print('Distribuição Normal')\n",
        "else:\n",
        "    print('Não é uma Distribuição Normal')"
      ],
      "metadata": {
        "colab": {
          "base_uri": "https://localhost:8080/"
        },
        "id": "ETiDO15nbWAT",
        "outputId": "d17a5dd3-c811-4d06-c733-95daf1592924"
      },
      "execution_count": 246,
      "outputs": [
        {
          "output_type": "stream",
          "name": "stdout",
          "text": [
            "ShapiroResult(statistic=0.9418991208076477, pvalue=0.053019385784864426)\n",
            "Distribuição Normal\n"
          ]
        }
      ]
    },
    {
      "cell_type": "code",
      "source": [
        "normalValues = pd.DataFrame(newValue, columns=['value_actual'])\n",
        "\n",
        "#prova que a curva se tornou mais próxima de uma normal\n",
        "plt.subplot(222)\n",
        "normalValues.value_actual.plot(kind='kde', figsize=(12,6))\n",
        "plt.show()"
      ],
      "metadata": {
        "colab": {
          "base_uri": "https://localhost:8080/",
          "height": 196
        },
        "id": "Qnhjvs0sbujD",
        "outputId": "21717095-0375-4a6f-a24f-0dcb2230b475"
      },
      "execution_count": 247,
      "outputs": [
        {
          "output_type": "display_data",
          "data": {
            "text/plain": [
              "<Figure size 864x432 with 1 Axes>"
            ],
            "image/png": "[encoded data removed]"
          },
          "metadata": {
            "needs_background": "light"
          }
        }
      ]
    },
    {
      "cell_type": "markdown",
      "source": [
        "#MAP\n"
      ],
      "metadata": {
        "id": "Tu17fn_70k7v"
      }
    },
    {
      "cell_type": "code",
      "source": [
        "dataMaped = []\n",
        "\n",
        "def appendItem(downloadData): # adiciona no array a informação mapeada\n",
        "  dataMaped.append({\"year\": downloadData[2],\"value\": downloadData[4]}) \n",
        "\n",
        "def map(data):  #mapeia as informações checando se os campos são os escolhidos\n",
        "  for downloadData in data :\n",
        "    if downloadData[0] == \"Download Single\" and downloadData[1] == \"Value\":\n",
        "      appendItem(downloadData) \n",
        "    elif downloadData[0] == \"Download Music Video\" and downloadData[1] == \"Value\":\n",
        "      appendItem(downloadData)\n",
        "    elif downloadData[0] == \"Download Album\" and downloadData[1] == \"Value\":\n",
        "      appendItem(downloadData)\n",
        "\n",
        "  return dataMaped"
      ],
      "metadata": {
        "id": "kgUVlnRH0wH3"
      },
      "execution_count": 230,
      "outputs": []
    },
    {
      "cell_type": "markdown",
      "source": [
        "#FILTER / REDUCER "
      ],
      "metadata": {
        "id": "DiwXwDUo0RYE"
      }
    },
    {
      "cell_type": "code",
      "source": [
        "dataReduced = []\n",
        "\n",
        "def reducer(dataMaped):\n",
        "  for downloadData in dataMaped: #percorre o array mapeado\n",
        "    isEquals = False  \n",
        "\n",
        "    for i in range(len(dataReduced)): # percorre o array reduzido\n",
        "      if dataReduced[i][\"year\"] == downloadData[\"year\"]: # caso os anos sejam iguais, define a variavel isEquals como true\n",
        "        isEquals = True\n",
        "        break \n",
        "    \n",
        "    if isEquals: # se for True soma o valor anterior com o atual\n",
        "      dataReduced[i] = { \"year\": dataReduced[i][\"year\"], \"value\": dataReduced[i][\"value\"] + downloadData[\"value\"] }\n",
        "    else:\n",
        "      dataReduced.append(downloadData) # se for False adiciona o novo valor\n",
        "\n",
        "  return dataReduced"
      ],
      "metadata": {
        "id": "8r9itpmTIwy4"
      },
      "execution_count": 231,
      "outputs": []
    },
    {
      "cell_type": "markdown",
      "source": [
        "#MAP RUN"
      ],
      "metadata": {
        "id": "yik0r2O_HOet"
      }
    },
    {
      "cell_type": "code",
      "source": [
        "#TRATAMENTOS CSV\n",
        "\n",
        "dataFrame = pd.read_csv('musicdata.csv', index_col=0) # carrega o CSV\n",
        "dataFrame = dataFrame[dataFrame['value_actual'].notna()] # remove os valores negativos\n",
        "dataFrame = dataFrame.sort_values(by=['year']) # ordena o dataFrame do menor ano para o maior"
      ],
      "metadata": {
        "id": "JEeFFKBjHptE"
      },
      "execution_count": 232,
      "outputs": []
    },
    {
      "cell_type": "code",
      "source": [
        "#EXECUÇÃO\n",
        "\n",
        "data = dataFrame.reset_index().to_numpy() # converte para ser possivel percorrer no map\n",
        "dataMaped = map(data) #faz a função de mapeamento\n",
        "dataReduced = reducer(dataMaped) #faz a função de reducer"
      ],
      "metadata": {
        "id": "NKrElq1bHbPV"
      },
      "execution_count": 233,
      "outputs": []
    },
    {
      "cell_type": "code",
      "source": [
        "#EXIBIÇÃO\n",
        "dataReduced = pd.DataFrame(dataReduced, columns = ['year','value']) \n",
        "dataReduced = dataReduced.set_index('year')\n",
        "dataReduced.plot(figsize=(12,6))\n",
        "plt.show()"
      ],
      "metadata": {
        "id": "r1Pk00mkQsFZ",
        "colab": {
          "base_uri": "https://localhost:8080/",
          "height": 392
        },
        "outputId": "dcfe1d7b-1346-43e6-bc80-044940d5be04"
      },
      "execution_count": 234,
      "outputs": [
        {
          "output_type": "display_data",
          "data": {
            "text/plain": [
              "<Figure size 864x432 with 1 Axes>"
            ],
            "image/png": "[encoded data removed]"
          },
          "metadata": {
            "needs_background": "light"
          }
        }
      ]
    }
  ]
}